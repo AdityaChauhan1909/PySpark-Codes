{
 "cells": [
  {
   "cell_type": "code",
   "execution_count": 1,
   "metadata": {},
   "outputs": [],
   "source": [
    "from pyspark import SparkConf, SparkContext"
   ]
  },
  {
   "cell_type": "code",
   "execution_count": 2,
   "metadata": {},
   "outputs": [],
   "source": [
    "import collections"
   ]
  },
  {
   "cell_type": "code",
   "execution_count": 3,
   "metadata": {},
   "outputs": [],
   "source": [
    "conf = SparkConf().setMaster(\"local\").setAppName(\"Practice\")"
   ]
  },
  {
   "cell_type": "code",
   "execution_count": 4,
   "metadata": {},
   "outputs": [],
   "source": [
    "sc = SparkContext(conf= conf)"
   ]
  },
  {
   "cell_type": "code",
   "execution_count": 5,
   "metadata": {},
   "outputs": [],
   "source": [
    "#Reading the data\n",
    "\n",
    "fraud = sc.textFile('ccFraud.csv')"
   ]
  },
  {
   "cell_type": "code",
   "execution_count": 7,
   "metadata": {},
   "outputs": [],
   "source": [
    "#Checking the columns\n",
    "header = fraud.first()"
   ]
  },
  {
   "cell_type": "code",
   "execution_count": 8,
   "metadata": {},
   "outputs": [
    {
     "data": {
      "text/plain": [
       "'\"custID\",\"gender\",\"state\",\"cardholder\",\"balance\",\"numTrans\",\"numIntlTrans\",\"creditLine\",\"fraudRisk\"'"
      ]
     },
     "execution_count": 8,
     "metadata": {},
     "output_type": "execute_result"
    }
   ],
   "source": [
    "header"
   ]
  },
  {
   "cell_type": "code",
   "execution_count": 9,
   "metadata": {},
   "outputs": [],
   "source": [
    "fraud = fraud \\\n",
    ".filter(lambda row: row != header) \\\n",
    ".map(lambda row: [int(elem) for elem in row.split(',')])"
   ]
  },
  {
   "cell_type": "code",
   "execution_count": 10,
   "metadata": {},
   "outputs": [],
   "source": [
    "#Next, we create the schema for our DataFrame:"
   ]
  },
  {
   "cell_type": "code",
   "execution_count": 12,
   "metadata": {},
   "outputs": [],
   "source": [
    "import pyspark.sql.types as typ"
   ]
  },
  {
   "cell_type": "code",
   "execution_count": 13,
   "metadata": {},
   "outputs": [],
   "source": [
    "fields = [\n",
    "    *[\n",
    "        typ.StructField(h[1:-1], typ.IntegerType(), True)\n",
    "        for h in header.split(',')\n",
    "    ]\n",
    "] \n",
    "schema = typ.StructType(fields)"
   ]
  },
  {
   "cell_type": "code",
   "execution_count": 14,
   "metadata": {},
   "outputs": [
    {
     "data": {
      "text/plain": [
       "[StructField(custID,IntegerType,true),\n",
       " StructField(gender,IntegerType,true),\n",
       " StructField(state,IntegerType,true),\n",
       " StructField(cardholder,IntegerType,true),\n",
       " StructField(balance,IntegerType,true),\n",
       " StructField(numTrans,IntegerType,true),\n",
       " StructField(numIntlTrans,IntegerType,true),\n",
       " StructField(creditLine,IntegerType,true),\n",
       " StructField(fraudRisk,IntegerType,true)]"
      ]
     },
     "execution_count": 14,
     "metadata": {},
     "output_type": "execute_result"
    }
   ],
   "source": [
    "fields"
   ]
  },
  {
   "cell_type": "code",
   "execution_count": 21,
   "metadata": {},
   "outputs": [
    {
     "ename": "NameError",
     "evalue": "name 'SQLContext' is not defined",
     "output_type": "error",
     "traceback": [
      "\u001b[1;31m---------------------------------------------------------------------------\u001b[0m",
      "\u001b[1;31mNameError\u001b[0m                                 Traceback (most recent call last)",
      "\u001b[1;32m<ipython-input-21-ddd502ec8fc7>\u001b[0m in \u001b[0;36m<module>\u001b[1;34m()\u001b[0m\n\u001b[0;32m      5\u001b[0m \u001b[1;33m\u001b[0m\u001b[0m\n\u001b[0;32m      6\u001b[0m \u001b[1;33m\u001b[0m\u001b[0m\n\u001b[1;32m----> 7\u001b[1;33m \u001b[0msqlContext\u001b[0m \u001b[1;33m=\u001b[0m \u001b[0mSQLContext\u001b[0m\u001b[1;33m(\u001b[0m\u001b[0mspark\u001b[0m\u001b[1;33m)\u001b[0m\u001b[1;33m\u001b[0m\u001b[0m\n\u001b[0m",
      "\u001b[1;31mNameError\u001b[0m: name 'SQLContext' is not defined"
     ]
    }
   ],
   "source": [
    "import pyspark.sql.functions as fn\n",
    "from pyspark.sql import SparkSession\n",
    "\n",
    "spark = SparkSession \\\n",
    "        .builder \\\n",
    "        .appName(\"Python Spark SQL basic example\") \\\n",
    "        .config(\"spark.some.config.option\", \"some-value\") \\\n",
    "        .getOrCreate()\n",
    "        \n",
    "        \n",
    "sqlContext = SQLContext(spark)"
   ]
  },
  {
   "cell_type": "code",
   "execution_count": 20,
   "metadata": {
    "scrolled": true
   },
   "outputs": [],
   "source": [
    "fraud_df = spark.createDataFrame(fraud, schema)"
   ]
  },
  {
   "cell_type": "code",
   "execution_count": 22,
   "metadata": {},
   "outputs": [
    {
     "name": "stdout",
     "output_type": "stream",
     "text": [
      "+------+------+-----+----------+-------+--------+------------+----------+---------+\n",
      "|custID|gender|state|cardholder|balance|numTrans|numIntlTrans|creditLine|fraudRisk|\n",
      "+------+------+-----+----------+-------+--------+------------+----------+---------+\n",
      "|     1|     1|   35|         1|   3000|       4|          14|         2|        0|\n",
      "|     2|     2|    2|         1|      0|       9|           0|        18|        0|\n",
      "|     3|     2|    2|         1|      0|      27|           9|        16|        0|\n",
      "|     4|     1|   15|         1|      0|      12|           0|         5|        0|\n",
      "|     5|     1|   46|         1|      0|      11|          16|         7|        0|\n",
      "+------+------+-----+----------+-------+--------+------------+----------+---------+\n",
      "only showing top 5 rows\n",
      "\n"
     ]
    }
   ],
   "source": [
    "fraud_df.show(5)"
   ]
  },
  {
   "cell_type": "code",
   "execution_count": 23,
   "metadata": {},
   "outputs": [
    {
     "data": {
      "text/plain": [
       "['custID',\n",
       " 'gender',\n",
       " 'state',\n",
       " 'cardholder',\n",
       " 'balance',\n",
       " 'numTrans',\n",
       " 'numIntlTrans',\n",
       " 'creditLine',\n",
       " 'fraudRisk']"
      ]
     },
     "execution_count": 23,
     "metadata": {},
     "output_type": "execute_result"
    }
   ],
   "source": [
    "fraud_df.columns"
   ]
  },
  {
   "cell_type": "code",
   "execution_count": 30,
   "metadata": {},
   "outputs": [
    {
     "name": "stdout",
     "output_type": "stream",
     "text": [
      "+--------------+--------------+-------------+------------------+---------------+----------------+--------------------+------------------+-----------------+\n",
      "|custID_missing|gender_missing|state_missing|cardholder_missing|balance_missing|numTrans_missing|numIntlTrans_missing|creditLine_missing|fraudRisk_missing|\n",
      "+--------------+--------------+-------------+------------------+---------------+----------------+--------------------+------------------+-----------------+\n",
      "|           0.0|           0.0|          0.0|               0.0|            0.0|             0.0|                 0.0|               0.0|              0.0|\n",
      "+--------------+--------------+-------------+------------------+---------------+----------------+--------------------+------------------+-----------------+\n",
      "\n"
     ]
    }
   ],
   "source": [
    "#To find the PErcentage of missing observations per column, we can use the following snippet:\n",
    "\n",
    "fraud_df.agg(*[\n",
    "(1 - (fn.count(c) / fn.count('*'))).alias(c + '_missing')\n",
    "for c in fraud_df.columns\n",
    "]).show()\n",
    "#It produces the following output:"
   ]
  },
  {
   "cell_type": "code",
   "execution_count": 24,
   "metadata": {
    "scrolled": true
   },
   "outputs": [
    {
     "name": "stdout",
     "output_type": "stream",
     "text": [
      "+------+-------+\n",
      "|gender|  count|\n",
      "+------+-------+\n",
      "|     1|6178231|\n",
      "|     2|3821769|\n",
      "+------+-------+\n",
      "\n"
     ]
    }
   ],
   "source": [
    "fraud_df.groupBy('gender').count().show()"
   ]
  },
  {
   "cell_type": "code",
   "execution_count": 26,
   "metadata": {},
   "outputs": [
    {
     "name": "stdout",
     "output_type": "stream",
     "text": [
      "+------+-----------------+\n",
      "|gender|     avg(balance)|\n",
      "+------+-----------------+\n",
      "|     1|4111.134073976839|\n",
      "|     2|4107.957129800362|\n",
      "+------+-----------------+\n",
      "\n"
     ]
    }
   ],
   "source": [
    "fraud_df.groupBy('gender').mean('balance').show()"
   ]
  },
  {
   "cell_type": "code",
   "execution_count": 27,
   "metadata": {},
   "outputs": [
    {
     "name": "stdout",
     "output_type": "stream",
     "text": [
      "+-------+-----------------+------------------+-----------------+\n",
      "|summary|          balance|          numTrans|     numIntlTrans|\n",
      "+-------+-----------------+------------------+-----------------+\n",
      "|  count|         10000000|          10000000|         10000000|\n",
      "|   mean|     4109.9199193|        28.9351871|        4.0471899|\n",
      "| stddev|3996.847309737258|26.553781024523122|8.602970115863904|\n",
      "|    min|                0|                 0|                0|\n",
      "|    max|            41485|               100|               60|\n",
      "+-------+-----------------+------------------+-----------------+\n",
      "\n"
     ]
    }
   ],
   "source": [
    "numerical = ['balance', 'numTrans', 'numIntlTrans']\n",
    "desc = fraud_df.describe(numerical)\n",
    "desc.show()"
   ]
  },
  {
   "cell_type": "raw",
   "metadata": {},
   "source": [
    "Even from these relatively few numbers we can tell quite a bit:\n",
    "\n",
    "All of the features are positively skewed. The maximum values are a\n",
    "number of times larger than the average.\n",
    "\n",
    "The coefficient of variation (the ratio of mean to standard deviation)\n",
    "is very high (close or greater than 1), suggesting a wide spread of\n",
    "observations."
   ]
  },
  {
   "cell_type": "code",
   "execution_count": 28,
   "metadata": {},
   "outputs": [
    {
     "name": "stdout",
     "output_type": "stream",
     "text": [
      "+------------------+\n",
      "| skewness(balance)|\n",
      "+------------------+\n",
      "|1.1818315552993839|\n",
      "+------------------+\n",
      "\n"
     ]
    }
   ],
   "source": [
    "fraud_df.agg({'balance': 'skewness'}).show()"
   ]
  },
  {
   "cell_type": "raw",
   "metadata": {},
   "source": [
    "A list of aggregation functions (the names are fairly self-explanatory)\n",
    "includes: avg(), count(), countDistinct(), first(), kurtosis(),\n",
    "max(), mean(), min(), skewness(), stddev(), stddev_pop(),\n",
    "stddev_samp(), sum(), sumDistinct(), var_pop(), var_samp() and\n",
    "variance()."
   ]
  },
  {
   "cell_type": "markdown",
   "metadata": {},
   "source": [
    "# Correlations"
   ]
  },
  {
   "cell_type": "code",
   "execution_count": 29,
   "metadata": {},
   "outputs": [
    {
     "data": {
      "text/plain": [
       "0.0004452314017265386"
      ]
     },
     "execution_count": 29,
     "metadata": {},
     "output_type": "execute_result"
    }
   ],
   "source": [
    "fraud_df.corr('balance', 'numTrans')\n"
   ]
  },
  {
   "cell_type": "code",
   "execution_count": 31,
   "metadata": {},
   "outputs": [],
   "source": [
    "# Correlatiom Matrix\n",
    "n_numerical = len(numerical)\n",
    "corr = []\n",
    "for i in range(0, n_numerical):\n",
    "    temp = [None] * i\n",
    "    for j in range(i, n_numerical):\n",
    "        temp.append(fraud_df.corr(numerical[i], numerical[j]))\n",
    "    corr.append(temp)"
   ]
  },
  {
   "cell_type": "code",
   "execution_count": 33,
   "metadata": {},
   "outputs": [
    {
     "data": {
      "text/plain": [
       "[[1.0, 0.0004452314017265386, 0.0002713991339817875],\n",
       " [None, 1.0, -0.00028057128198165544],\n",
       " [None, None, 1.0]]"
      ]
     },
     "execution_count": 33,
     "metadata": {},
     "output_type": "execute_result"
    }
   ],
   "source": [
    "corr"
   ]
  },
  {
   "cell_type": "code",
   "execution_count": 38,
   "metadata": {},
   "outputs": [],
   "source": [
    "import pandas as pd\n",
    "import numpy as np\n",
    "import matplotlib.pyplot as plt\n",
    "import seaborn as sns"
   ]
  },
  {
   "cell_type": "code",
   "execution_count": 40,
   "metadata": {},
   "outputs": [],
   "source": [
    "from pyspark.mllib.stat import Statistics"
   ]
  },
  {
   "cell_type": "code",
   "execution_count": 42,
   "metadata": {},
   "outputs": [],
   "source": [
    "def compute_correlation_matrix(df, method='pearson'):\n",
    "    # wrapper around\n",
    "    # https://forums.databricks.com/questions/3092/how-to-calculate-correlation-matrix-with-all-colum.html\n",
    "    df_rdd = df.rdd.map(lambda row: row[0:])\n",
    "    corr_mat = Statistics.corr(df_rdd, method=method)\n",
    "    corr_mat_df = pd.DataFrame(corr_mat,\n",
    "                    columns=df.columns, \n",
    "                    index=df.columns)\n",
    "    return corr_mat_df"
   ]
  },
  {
   "cell_type": "code",
   "execution_count": 43,
   "metadata": {},
   "outputs": [
    {
     "data": {
      "text/html": [
       "<div>\n",
       "<style scoped>\n",
       "    .dataframe tbody tr th:only-of-type {\n",
       "        vertical-align: middle;\n",
       "    }\n",
       "\n",
       "    .dataframe tbody tr th {\n",
       "        vertical-align: top;\n",
       "    }\n",
       "\n",
       "    .dataframe thead th {\n",
       "        text-align: right;\n",
       "    }\n",
       "</style>\n",
       "<table border=\"1\" class=\"dataframe\">\n",
       "  <thead>\n",
       "    <tr style=\"text-align: right;\">\n",
       "      <th></th>\n",
       "      <th>custID</th>\n",
       "      <th>gender</th>\n",
       "      <th>state</th>\n",
       "      <th>cardholder</th>\n",
       "      <th>balance</th>\n",
       "      <th>numTrans</th>\n",
       "      <th>numIntlTrans</th>\n",
       "      <th>creditLine</th>\n",
       "      <th>fraudRisk</th>\n",
       "    </tr>\n",
       "  </thead>\n",
       "  <tbody>\n",
       "    <tr>\n",
       "      <th>custID</th>\n",
       "      <td>1.000000</td>\n",
       "      <td>-0.000523</td>\n",
       "      <td>-0.000123</td>\n",
       "      <td>-0.000006</td>\n",
       "      <td>0.000264</td>\n",
       "      <td>0.000610</td>\n",
       "      <td>0.000054</td>\n",
       "      <td>0.000084</td>\n",
       "      <td>-0.000427</td>\n",
       "    </tr>\n",
       "    <tr>\n",
       "      <th>gender</th>\n",
       "      <td>-0.000523</td>\n",
       "      <td>1.000000</td>\n",
       "      <td>0.000279</td>\n",
       "      <td>0.000204</td>\n",
       "      <td>-0.000386</td>\n",
       "      <td>-0.000187</td>\n",
       "      <td>0.000007</td>\n",
       "      <td>0.000042</td>\n",
       "      <td>0.037425</td>\n",
       "    </tr>\n",
       "    <tr>\n",
       "      <th>state</th>\n",
       "      <td>-0.000123</td>\n",
       "      <td>0.000279</td>\n",
       "      <td>1.000000</td>\n",
       "      <td>-0.000459</td>\n",
       "      <td>-0.000896</td>\n",
       "      <td>0.000151</td>\n",
       "      <td>-0.000301</td>\n",
       "      <td>-0.000263</td>\n",
       "      <td>-0.022295</td>\n",
       "    </tr>\n",
       "    <tr>\n",
       "      <th>cardholder</th>\n",
       "      <td>-0.000006</td>\n",
       "      <td>0.000204</td>\n",
       "      <td>-0.000459</td>\n",
       "      <td>1.000000</td>\n",
       "      <td>-0.000458</td>\n",
       "      <td>0.000243</td>\n",
       "      <td>0.000272</td>\n",
       "      <td>-0.000132</td>\n",
       "      <td>0.011154</td>\n",
       "    </tr>\n",
       "    <tr>\n",
       "      <th>balance</th>\n",
       "      <td>0.000264</td>\n",
       "      <td>-0.000386</td>\n",
       "      <td>-0.000896</td>\n",
       "      <td>-0.000458</td>\n",
       "      <td>1.000000</td>\n",
       "      <td>0.000445</td>\n",
       "      <td>0.000271</td>\n",
       "      <td>0.263583</td>\n",
       "      <td>0.412075</td>\n",
       "    </tr>\n",
       "    <tr>\n",
       "      <th>numTrans</th>\n",
       "      <td>0.000610</td>\n",
       "      <td>-0.000187</td>\n",
       "      <td>0.000151</td>\n",
       "      <td>0.000243</td>\n",
       "      <td>0.000445</td>\n",
       "      <td>1.000000</td>\n",
       "      <td>-0.000281</td>\n",
       "      <td>0.000317</td>\n",
       "      <td>0.222751</td>\n",
       "    </tr>\n",
       "    <tr>\n",
       "      <th>numIntlTrans</th>\n",
       "      <td>0.000054</td>\n",
       "      <td>0.000007</td>\n",
       "      <td>-0.000301</td>\n",
       "      <td>0.000272</td>\n",
       "      <td>0.000271</td>\n",
       "      <td>-0.000281</td>\n",
       "      <td>1.000000</td>\n",
       "      <td>-0.000279</td>\n",
       "      <td>0.039588</td>\n",
       "    </tr>\n",
       "    <tr>\n",
       "      <th>creditLine</th>\n",
       "      <td>0.000084</td>\n",
       "      <td>0.000042</td>\n",
       "      <td>-0.000263</td>\n",
       "      <td>-0.000132</td>\n",
       "      <td>0.263583</td>\n",
       "      <td>0.000317</td>\n",
       "      <td>-0.000279</td>\n",
       "      <td>1.000000</td>\n",
       "      <td>0.377001</td>\n",
       "    </tr>\n",
       "    <tr>\n",
       "      <th>fraudRisk</th>\n",
       "      <td>-0.000427</td>\n",
       "      <td>0.037425</td>\n",
       "      <td>-0.022295</td>\n",
       "      <td>0.011154</td>\n",
       "      <td>0.412075</td>\n",
       "      <td>0.222751</td>\n",
       "      <td>0.039588</td>\n",
       "      <td>0.377001</td>\n",
       "      <td>1.000000</td>\n",
       "    </tr>\n",
       "  </tbody>\n",
       "</table>\n",
       "</div>"
      ],
      "text/plain": [
       "                custID    gender     state  cardholder   balance  numTrans  \\\n",
       "custID        1.000000 -0.000523 -0.000123   -0.000006  0.000264  0.000610   \n",
       "gender       -0.000523  1.000000  0.000279    0.000204 -0.000386 -0.000187   \n",
       "state        -0.000123  0.000279  1.000000   -0.000459 -0.000896  0.000151   \n",
       "cardholder   -0.000006  0.000204 -0.000459    1.000000 -0.000458  0.000243   \n",
       "balance       0.000264 -0.000386 -0.000896   -0.000458  1.000000  0.000445   \n",
       "numTrans      0.000610 -0.000187  0.000151    0.000243  0.000445  1.000000   \n",
       "numIntlTrans  0.000054  0.000007 -0.000301    0.000272  0.000271 -0.000281   \n",
       "creditLine    0.000084  0.000042 -0.000263   -0.000132  0.263583  0.000317   \n",
       "fraudRisk    -0.000427  0.037425 -0.022295    0.011154  0.412075  0.222751   \n",
       "\n",
       "              numIntlTrans  creditLine  fraudRisk  \n",
       "custID            0.000054    0.000084  -0.000427  \n",
       "gender            0.000007    0.000042   0.037425  \n",
       "state            -0.000301   -0.000263  -0.022295  \n",
       "cardholder        0.000272   -0.000132   0.011154  \n",
       "balance           0.000271    0.263583   0.412075  \n",
       "numTrans         -0.000281    0.000317   0.222751  \n",
       "numIntlTrans      1.000000   -0.000279   0.039588  \n",
       "creditLine       -0.000279    1.000000   0.377001  \n",
       "fraudRisk         0.039588    0.377001   1.000000  "
      ]
     },
     "execution_count": 43,
     "metadata": {},
     "output_type": "execute_result"
    }
   ],
   "source": [
    "compute_correlation_matrix(fraud_df, method='pearson')"
   ]
  },
  {
   "cell_type": "code",
   "execution_count": 44,
   "metadata": {},
   "outputs": [
    {
     "data": {
      "text/plain": [
       "<matplotlib.axes._subplots.AxesSubplot at 0x2aafeab0438>"
      ]
     },
     "execution_count": 44,
     "metadata": {},
     "output_type": "execute_result"
    },
    {
     "data": {
      "image/png": "[encoded data removed]",
      "text/plain": [
       "<matplotlib.figure.Figure at 0x2aafeab5978>"
      ]
     },
     "metadata": {},
     "output_type": "display_data"
    }
   ],
   "source": [
    "sns.heatmap(compute_correlation_matrix(fraud_df, method='pearson'))"
   ]
  },
  {
   "cell_type": "markdown",
   "metadata": {},
   "source": [
    "# HISTOGRAM"
   ]
  },
  {
   "cell_type": "raw",
   "metadata": {},
   "source": [
    "Histograms\n",
    "Histograms are by far the easiest way to visually gauge the distribution\n",
    "of your features. There are three ways you can generate histograms in\n",
    "PySpark (or a Jupyter notebook):\n",
    "\n",
    "1)Aggregate the data in workers and return an aggregated list of bins\n",
    "and counts in each bin of the histogram to the driver\n",
    "\n",
    "2)Return all the data points to the driver and allow the plotting\n",
    "libraries' methods to do the job for you\n",
    "\n",
    "3)Sample your data and then return them to the driver for plotting."
   ]
  },
  {
   "cell_type": "code",
   "execution_count": 50,
   "metadata": {},
   "outputs": [],
   "source": [
    "# In order to create a histogram, it is important to aggregate the data first and then plot"
   ]
  },
  {
   "cell_type": "code",
   "execution_count": 45,
   "metadata": {},
   "outputs": [],
   "source": [
    "hists = fraud_df.select('balance').rdd.flatMap(lambda row: row).histogram(20)"
   ]
  },
  {
   "cell_type": "code",
   "execution_count": 53,
   "metadata": {},
   "outputs": [
    {
     "data": {
      "text/plain": [
       "Text(0.5,1,\"Histogram of 'balance'\")"
      ]
     },
     "execution_count": 53,
     "metadata": {},
     "output_type": "execute_result"
    },
    {
     "data": {
      "image/png": "[encoded data removed]",
      "text/plain": [
       "<matplotlib.figure.Figure at 0x2aafeae7e48>"
      ]
     },
     "metadata": {},
     "output_type": "display_data"
    }
   ],
   "source": [
    "import matplotlib.pyplot as plt\n",
    "%matplotlib inline\n",
    "\n",
    "\n",
    "data = {\n",
    "'bins': hists[0][:-1],\n",
    "'freq': hists[1]\n",
    "} \n",
    "\n",
    "plt.bar(data['bins'], data['freq'], width=2000)\n",
    "plt.title('Histogram of \\'balance\\'')"
   ]
  },
  {
   "cell_type": "code",
   "execution_count": 54,
   "metadata": {},
   "outputs": [],
   "source": [
    "#USING BOKEH"
   ]
  },
  {
   "cell_type": "raw",
   "metadata": {},
   "source": [
    "import bokeh.charts as chrt\n",
    "\n",
    "from bokeh.io import output_notebook\n",
    "output_notebook()"
   ]
  },
  {
   "cell_type": "raw",
   "metadata": {},
   "source": [
    "b_hist = chrt.Bar(data,values='freq', label='bins',title='Histogram of \\'balance\\'')\n",
    "chrt.show(b_hist)"
   ]
  },
  {
   "cell_type": "code",
   "execution_count": 64,
   "metadata": {},
   "outputs": [
    {
     "ename": "AttributeError",
     "evalue": "module 'bokeh' has no attribute 'Histogram'",
     "output_type": "error",
     "traceback": [
      "\u001b[1;31m---------------------------------------------------------------------------\u001b[0m",
      "\u001b[1;31mAttributeError\u001b[0m                            Traceback (most recent call last)",
      "\u001b[1;32m<ipython-input-64-656bb04084b2>\u001b[0m in \u001b[0;36m<module>\u001b[1;34m()\u001b[0m\n\u001b[0;32m      7\u001b[0m \u001b[0mplt\u001b[0m\u001b[1;33m.\u001b[0m\u001b[0mhist\u001b[0m\u001b[1;33m(\u001b[0m\u001b[0mdata_driver\u001b[0m\u001b[1;33m[\u001b[0m\u001b[1;34m'obs'\u001b[0m\u001b[1;33m]\u001b[0m\u001b[1;33m,\u001b[0m \u001b[0mbins\u001b[0m\u001b[1;33m=\u001b[0m\u001b[1;36m20\u001b[0m\u001b[1;33m)\u001b[0m\u001b[1;33m\u001b[0m\u001b[0m\n\u001b[0;32m      8\u001b[0m \u001b[0mplt\u001b[0m\u001b[1;33m.\u001b[0m\u001b[0mtitle\u001b[0m\u001b[1;33m(\u001b[0m\u001b[1;34m'Histogram of \\'balance\\' using .hist()'\u001b[0m\u001b[1;33m)\u001b[0m\u001b[1;33m\u001b[0m\u001b[0m\n\u001b[1;32m----> 9\u001b[1;33m b_hist_driver = chrt.Histogram(\n\u001b[0m\u001b[0;32m     10\u001b[0m \u001b[0mdata_driver\u001b[0m\u001b[1;33m,\u001b[0m \u001b[0mvalues\u001b[0m\u001b[1;33m=\u001b[0m\u001b[1;34m'obs'\u001b[0m\u001b[1;33m,\u001b[0m\u001b[1;33m\u001b[0m\u001b[0m\n\u001b[0;32m     11\u001b[0m \u001b[0mtitle\u001b[0m\u001b[1;33m=\u001b[0m\u001b[1;34m'Histogram of \\'balance\\' using .Histogram()'\u001b[0m\u001b[1;33m,\u001b[0m\u001b[1;33m\u001b[0m\u001b[0m\n",
      "\u001b[1;31mAttributeError\u001b[0m: module 'bokeh' has no attribute 'Histogram'"
     ]
    },
    {
     "data": {
      "image/png": "[encoded data removed]",
      "text/plain": [
       "<matplotlib.figure.Figure at 0x2aaffa1bcf8>"
      ]
     },
     "metadata": {},
     "output_type": "display_data"
    }
   ],
   "source": [
    "data_driver = {\n",
    "'obs': fraud_df.select('balance').rdd.flatMap(\n",
    "lambda row: row\n",
    ").collect()\n",
    "}\n",
    "\n",
    "plt.hist(data_driver['obs'], bins=20)\n",
    "plt.title('Histogram of \\'balance\\' using .hist()')\n",
    "b_hist_driver = chrt.Histogram(\n",
    "data_driver, values='obs',\n",
    "title='Histogram of \\'balance\\' using .Histogram()',\n",
    "bins=20\n",
    ") "
   ]
  },
  {
   "cell_type": "markdown",
   "metadata": {},
   "source": [
    "# SCATTER PLOT"
   ]
  },
  {
   "cell_type": "code",
   "execution_count": 65,
   "metadata": {},
   "outputs": [],
   "source": [
    "data_sample = fraud_df.sampleBy(\n",
    "'gender', {1: 0.0002, 2: 0.0002}\n",
    ").select(numerical)"
   ]
  },
  {
   "cell_type": "code",
   "execution_count": 66,
   "metadata": {
    "scrolled": true
   },
   "outputs": [
    {
     "ename": "AttributeError",
     "evalue": "module 'bokeh' has no attribute 'Scatter'",
     "output_type": "error",
     "traceback": [
      "\u001b[1;31m---------------------------------------------------------------------------\u001b[0m",
      "\u001b[1;31mAttributeError\u001b[0m                            Traceback (most recent call last)",
      "\u001b[1;32m<ipython-input-66-8304d8c37f09>\u001b[0m in \u001b[0;36m<module>\u001b[1;34m()\u001b[0m\n\u001b[0;32m      4\u001b[0m \u001b[1;32mfor\u001b[0m \u001b[0melem\u001b[0m \u001b[1;32min\u001b[0m \u001b[0mnumerical\u001b[0m\u001b[1;33m\u001b[0m\u001b[0m\n\u001b[0;32m      5\u001b[0m ])\n\u001b[1;32m----> 6\u001b[1;33m \u001b[0msctr\u001b[0m \u001b[1;33m=\u001b[0m \u001b[0mchrt\u001b[0m\u001b[1;33m.\u001b[0m\u001b[0mScatter\u001b[0m\u001b[1;33m(\u001b[0m\u001b[0mdata_multi\u001b[0m\u001b[1;33m,\u001b[0m \u001b[0mx\u001b[0m\u001b[1;33m=\u001b[0m\u001b[1;34m'balance'\u001b[0m\u001b[1;33m,\u001b[0m \u001b[0my\u001b[0m\u001b[1;33m=\u001b[0m\u001b[1;34m'numTrans'\u001b[0m\u001b[1;33m)\u001b[0m\u001b[1;33m\u001b[0m\u001b[0m\n\u001b[0m\u001b[0;32m      7\u001b[0m \u001b[0mchrt\u001b[0m\u001b[1;33m.\u001b[0m\u001b[0mshow\u001b[0m\u001b[1;33m(\u001b[0m\u001b[0msctr\u001b[0m\u001b[1;33m)\u001b[0m\u001b[1;33m\u001b[0m\u001b[0m\n",
      "\u001b[1;31mAttributeError\u001b[0m: module 'bokeh' has no attribute 'Scatter'"
     ]
    }
   ],
   "source": [
    "data_multi = dict([\n",
    "(elem, data_sample.select(elem).rdd \\\n",
    ".flatMap(lambda row: row).collect())\n",
    "for elem in numerical\n",
    "])\n",
    "sctr = chrt.Scatter(data_multi, x='balance', y='numTrans')\n",
    "chrt.show(sctr)"
   ]
  },
  {
   "cell_type": "markdown",
   "metadata": {},
   "source": [
    "# MLLIB"
   ]
  },
  {
   "cell_type": "raw",
   "metadata": {},
   "source": [
    "MLlib stands for Machine Learning Library. Even though MLlib is now\n",
    "in a maintenance mode, that is, it is not actively being developed (and\n",
    "will most likely be deprecated later), it is warranted that we cover at\n",
    "least some of the features of the library. In addition, MLlib is currently\n",
    "the only library that supports training models for streaming."
   ]
  },
  {
   "cell_type": "raw",
   "metadata": {},
   "source": [
    "At the high level, MLlib exposes three core machine learning\n",
    "functionalities:\n",
    "\n",
    "Data preparation: Feature extraction, transformation, selection,\n",
    "hashing of categorical features, and some natural language\n",
    "processing methods\n",
    "\n",
    "Machine learning algorithms: Some popular and advanced\n",
    "regression, classification, and clustering algorithms are implemented\n",
    "\n",
    "Utilities: Statistical methods such as descriptive statistics, chisquare\n",
    "testing, linear algebra (sparse and dense matrices and\n",
    "vectors), and model evaluation methods"
   ]
  },
  {
   "cell_type": "code",
   "execution_count": 69,
   "metadata": {},
   "outputs": [],
   "source": [
    "import pyspark.sql.types as typ\n",
    "\n",
    "labels = [\n",
    "    ('INFANT_ALIVE_AT_REPORT', typ.StringType()),\n",
    "    ('BIRTH_YEAR', typ.IntegerType()),\n",
    "    ('BIRTH_MONTH', typ.IntegerType()),\n",
    "    ('BIRTH_PLACE', typ.StringType()),\n",
    "    ('MOTHER_AGE_YEARS', typ.IntegerType()),\n",
    "    ('MOTHER_RACE_6CODE', typ.StringType()),\n",
    "    ('MOTHER_EDUCATION', typ.StringType()),\n",
    "    ('FATHER_COMBINED_AGE', typ.IntegerType()),\n",
    "    ('FATHER_EDUCATION', typ.StringType()),\n",
    "    ('MONTH_PRECARE_RECODE', typ.StringType()),\n",
    "    ('CIG_BEFORE', typ.IntegerType()),\n",
    "    ('CIG_1_TRI', typ.IntegerType()),\n",
    "    ('CIG_2_TRI', typ.IntegerType()),\n",
    "    ('CIG_3_TRI', typ.IntegerType()),\n",
    "    ('MOTHER_HEIGHT_IN', typ.IntegerType()),\n",
    "    ('MOTHER_BMI_RECODE', typ.IntegerType()),\n",
    "    ('MOTHER_PRE_WEIGHT', typ.IntegerType()),\n",
    "    ('MOTHER_DELIVERY_WEIGHT', typ.IntegerType()),\n",
    "    ('MOTHER_WEIGHT_GAIN', typ.IntegerType()),\n",
    "    ('DIABETES_PRE', typ.StringType()),\n",
    "    ('DIABETES_GEST', typ.StringType()),\n",
    "    ('HYP_TENS_PRE', typ.StringType()),\n",
    "    ('HYP_TENS_GEST', typ.StringType()),\n",
    "    ('PREV_BIRTH_PRETERM', typ.StringType()),\n",
    "    ('NO_RISK', typ.StringType()),\n",
    "    ('NO_INFECTIONS_REPORTED', typ.StringType()),\n",
    "    ('LABOR_IND', typ.StringType()),\n",
    "    ('LABOR_AUGM', typ.StringType()),\n",
    "    ('STEROIDS', typ.StringType()),\n",
    "    ('ANTIBIOTICS', typ.StringType()),\n",
    "    ('ANESTHESIA', typ.StringType()),\n",
    "    ('DELIV_METHOD_RECODE_COMB', typ.StringType()),\n",
    "    ('ATTENDANT_BIRTH', typ.StringType()),\n",
    "    ('APGAR_5', typ.IntegerType()),\n",
    "    ('APGAR_5_RECODE', typ.StringType()),\n",
    "    ('APGAR_10', typ.IntegerType()),\n",
    "    ('APGAR_10_RECODE', typ.StringType()),\n",
    "    ('INFANT_SEX', typ.StringType()),\n",
    "    ('OBSTETRIC_GESTATION_WEEKS', typ.IntegerType()),\n",
    "    ('INFANT_WEIGHT_GRAMS', typ.IntegerType()),\n",
    "    ('INFANT_ASSIST_VENTI', typ.StringType()),\n",
    "    ('INFANT_ASSIST_VENTI_6HRS', typ.StringType()),\n",
    "    ('INFANT_NICU_ADMISSION', typ.StringType()),\n",
    "    ('INFANT_SURFACANT', typ.StringType()),\n",
    "    ('INFANT_ANTIBIOTICS', typ.StringType()),\n",
    "    ('INFANT_SEIZURES', typ.StringType()),\n",
    "    ('INFANT_NO_ABNORMALITIES', typ.StringType()),\n",
    "    ('INFANT_ANCEPHALY', typ.StringType()),\n",
    "    ('INFANT_MENINGOMYELOCELE', typ.StringType()),\n",
    "    ('INFANT_LIMB_REDUCTION', typ.StringType()),\n",
    "    ('INFANT_DOWN_SYNDROME', typ.StringType()),\n",
    "    ('INFANT_SUSPECTED_CHROMOSOMAL_DISORDER', typ.StringType()),\n",
    "    ('INFANT_NO_CONGENITAL_ANOMALIES_CHECKED', typ.StringType()),\n",
    "    ('INFANT_BREASTFED', typ.StringType())\n",
    "]\n",
    "\n",
    "schema = typ.StructType([\n",
    "        typ.StructField(e[0], e[1], False) for e in labels\n",
    "    ])"
   ]
  },
  {
   "cell_type": "code",
   "execution_count": 70,
   "metadata": {},
   "outputs": [],
   "source": [
    "births = spark.read.csv('births_train.csv', \n",
    "                        header=True, \n",
    "                        schema=schema)"
   ]
  },
  {
   "cell_type": "code",
   "execution_count": 71,
   "metadata": {},
   "outputs": [],
   "source": [
    "recode_dictionary = {\n",
    "    'YNU': {\n",
    "        'Y': 1,\n",
    "        'N': 0,\n",
    "        'U': 0\n",
    "    }\n",
    "}"
   ]
  },
  {
   "cell_type": "raw",
   "metadata": {},
   "source": [
    "#According to the Dictionary\n",
    "\n",
    "Y Yes\n",
    "N No\n",
    "U Unknown or not stated"
   ]
  },
  {
   "cell_type": "code",
   "execution_count": 72,
   "metadata": {},
   "outputs": [
    {
     "data": {
      "text/plain": [
       "{'YNU': {'N': 0, 'U': 0, 'Y': 1}}"
      ]
     },
     "execution_count": 72,
     "metadata": {},
     "output_type": "execute_result"
    }
   ],
   "source": [
    "recode_dictionary"
   ]
  },
  {
   "cell_type": "raw",
   "metadata": {},
   "source": [
    "#Our goal in this chapter is to predict whether the\n",
    "'INFANT_ALIVE_AT_REPORT' is either 1 or 0. Thus, we will drop all of the\n",
    "features that relate to the infant and will try to predict the infant's\n",
    "chances of surviving only based on the features related to its mother,\n",
    "father, and the place of birth:"
   ]
  },
  {
   "cell_type": "code",
   "execution_count": 76,
   "metadata": {},
   "outputs": [
    {
     "data": {
      "text/plain": [
       "pyspark.sql.dataframe.DataFrame"
      ]
     },
     "execution_count": 76,
     "metadata": {},
     "output_type": "execute_result"
    }
   ],
   "source": [
    "type(births)"
   ]
  },
  {
   "cell_type": "code",
   "execution_count": 77,
   "metadata": {},
   "outputs": [],
   "source": [
    "selected_features = [\n",
    "    'INFANT_ALIVE_AT_REPORT', \n",
    "    'BIRTH_PLACE', \n",
    "    'MOTHER_AGE_YEARS', \n",
    "    'FATHER_COMBINED_AGE', \n",
    "    'CIG_BEFORE', \n",
    "    'CIG_1_TRI', \n",
    "    'CIG_2_TRI', \n",
    "    'CIG_3_TRI', \n",
    "    'MOTHER_HEIGHT_IN', \n",
    "    'MOTHER_PRE_WEIGHT', \n",
    "    'MOTHER_DELIVERY_WEIGHT', \n",
    "    'MOTHER_WEIGHT_GAIN', \n",
    "    'DIABETES_PRE', \n",
    "    'DIABETES_GEST', \n",
    "    'HYP_TENS_PRE', \n",
    "    'HYP_TENS_GEST', \n",
    "    'PREV_BIRTH_PRETERM'\n",
    "]\n",
    "\n",
    "births_trimmed = births.select(selected_features)"
   ]
  },
  {
   "cell_type": "code",
   "execution_count": 78,
   "metadata": {},
   "outputs": [
    {
     "data": {
      "text/plain": [
       "['INFANT_ALIVE_AT_REPORT',\n",
       " 'BIRTH_PLACE',\n",
       " 'MOTHER_AGE_YEARS',\n",
       " 'FATHER_COMBINED_AGE',\n",
       " 'CIG_BEFORE',\n",
       " 'CIG_1_TRI',\n",
       " 'CIG_2_TRI',\n",
       " 'CIG_3_TRI',\n",
       " 'MOTHER_HEIGHT_IN',\n",
       " 'MOTHER_PRE_WEIGHT',\n",
       " 'MOTHER_DELIVERY_WEIGHT',\n",
       " 'MOTHER_WEIGHT_GAIN',\n",
       " 'DIABETES_PRE',\n",
       " 'DIABETES_GEST',\n",
       " 'HYP_TENS_PRE',\n",
       " 'HYP_TENS_GEST',\n",
       " 'PREV_BIRTH_PRETERM']"
      ]
     },
     "execution_count": 78,
     "metadata": {},
     "output_type": "execute_result"
    }
   ],
   "source": [
    "births_trimmed.columns"
   ]
  },
  {
   "cell_type": "code",
   "execution_count": 79,
   "metadata": {},
   "outputs": [
    {
     "name": "stdout",
     "output_type": "stream",
     "text": [
      "+----------------------+-----------+----------------+-------------------+----------+---------+---------+---------+----------------+-----------------+----------------------+------------------+------------+-------------+------------+-------------+------------------+\n",
      "|INFANT_ALIVE_AT_REPORT|BIRTH_PLACE|MOTHER_AGE_YEARS|FATHER_COMBINED_AGE|CIG_BEFORE|CIG_1_TRI|CIG_2_TRI|CIG_3_TRI|MOTHER_HEIGHT_IN|MOTHER_PRE_WEIGHT|MOTHER_DELIVERY_WEIGHT|MOTHER_WEIGHT_GAIN|DIABETES_PRE|DIABETES_GEST|HYP_TENS_PRE|HYP_TENS_GEST|PREV_BIRTH_PRETERM|\n",
      "+----------------------+-----------+----------------+-------------------+----------+---------+---------+---------+----------------+-----------------+----------------------+------------------+------------+-------------+------------+-------------+------------------+\n",
      "|                     N|          1|              29|                 99|        99|       99|       99|       99|              99|              999|                   999|                99|           N|            N|           N|            N|                 N|\n",
      "|                     N|          1|              22|                 29|         0|        0|        0|        0|              65|              180|                   198|                18|           N|            N|           N|            N|                 N|\n",
      "|                     N|          1|              38|                 40|         0|        0|        0|        0|              63|              155|                   167|                12|           N|            N|           N|            N|                 N|\n",
      "|                     N|          1|              39|                 42|         0|        0|        0|        0|              60|              128|                   152|                24|           N|            N|           N|            N|                 Y|\n",
      "|                     N|          1|              18|                 99|         6|        4|        2|        2|              61|              110|                   130|                20|           N|            N|           N|            N|                 N|\n",
      "+----------------------+-----------+----------------+-------------------+----------+---------+---------+---------+----------------+-----------------+----------------------+------------------+------------+-------------+------------+-------------+------------------+\n",
      "only showing top 5 rows\n",
      "\n"
     ]
    }
   ],
   "source": [
    "births_trimmed.show(5)"
   ]
  },
  {
   "cell_type": "raw",
   "metadata": {},
   "source": [
    "# We shall be converting YNU to 0 and 1.\n",
    "Y -- > 1\n",
    "else 0\n",
    "\n",
    "\n",
    "\n",
    "There is also a small problem with how the number of cigarettes smoked\n",
    "by the mother was coded: as 0 means the mother smoked no cigarettes\n",
    "before or during the pregnancy, between 1-97 states the actual number\n",
    "of cigarette smoked, 98 indicates either 98 or more, whereas 99\n",
    "identifies the unknown; we will assume the unknown is 0 and recode\n",
    "accordingly"
   ]
  },
  {
   "cell_type": "code",
   "execution_count": 80,
   "metadata": {},
   "outputs": [],
   "source": [
    "import pyspark.sql.functions as func"
   ]
  },
  {
   "cell_type": "code",
   "execution_count": 82,
   "metadata": {},
   "outputs": [],
   "source": [
    "def recode(col, key):\n",
    "    return recode_dictionary[key][col]\n",
    "\n",
    "def correct_cig(feat):\n",
    "    return func \\\n",
    "        .when(func.col(feat) != 99, func.col(feat))\\\n",
    "        .otherwise(0)\n",
    "\n",
    "\n",
    "rec_integer = func.udf(recode, typ.IntegerType())"
   ]
  },
  {
   "cell_type": "code",
   "execution_count": 83,
   "metadata": {},
   "outputs": [],
   "source": [
    "births_transformed = births_trimmed \\\n",
    ".withColumn('CIG_BEFORE', correct_cig('CIG_BEFORE'))\\\n",
    ".withColumn('CIG_1_TRI', correct_cig('CIG_1_TRI'))\\\n",
    ".withColumn('CIG_2_TRI', correct_cig('CIG_2_TRI'))\\\n",
    ".withColumn('CIG_3_TRI', correct_cig('CIG_3_TRI'))"
   ]
  },
  {
   "cell_type": "code",
   "execution_count": 86,
   "metadata": {},
   "outputs": [
    {
     "name": "stdout",
     "output_type": "stream",
     "text": [
      "+----------+---------+---------+---------+\n",
      "|CIG_BEFORE|CIG_1_TRI|CIG_2_TRI|CIG_3_TRI|\n",
      "+----------+---------+---------+---------+\n",
      "|         0|        0|        0|        0|\n",
      "|         0|        0|        0|        0|\n",
      "|         0|        0|        0|        0|\n",
      "|         0|        0|        0|        0|\n",
      "|         6|        4|        2|        2|\n",
      "+----------+---------+---------+---------+\n",
      "only showing top 5 rows\n",
      "\n"
     ]
    }
   ],
   "source": [
    "births_transformed.select('CIG_BEFORE','CIG_1_TRI','CIG_2_TRI','CIG_3_TRI').show(5)"
   ]
  },
  {
   "cell_type": "raw",
   "metadata": {},
   "source": [
    "The .withColumn(...) method takes the name of the column as its first\n",
    "parameter and the transformation as the second one. In the previous\n",
    "cases, we do not create new columns, but reuse the same ones instead."
   ]
  },
  {
   "cell_type": "code",
   "execution_count": 87,
   "metadata": {},
   "outputs": [
    {
     "data": {
      "text/plain": [
       "StructType(List(StructField(INFANT_ALIVE_AT_REPORT,StringType,true),StructField(BIRTH_PLACE,StringType,true),StructField(MOTHER_AGE_YEARS,IntegerType,true),StructField(FATHER_COMBINED_AGE,IntegerType,true),StructField(CIG_BEFORE,IntegerType,true),StructField(CIG_1_TRI,IntegerType,true),StructField(CIG_2_TRI,IntegerType,true),StructField(CIG_3_TRI,IntegerType,true),StructField(MOTHER_HEIGHT_IN,IntegerType,true),StructField(MOTHER_PRE_WEIGHT,IntegerType,true),StructField(MOTHER_DELIVERY_WEIGHT,IntegerType,true),StructField(MOTHER_WEIGHT_GAIN,IntegerType,true),StructField(DIABETES_PRE,StringType,true),StructField(DIABETES_GEST,StringType,true),StructField(HYP_TENS_PRE,StringType,true),StructField(HYP_TENS_GEST,StringType,true),StructField(PREV_BIRTH_PRETERM,StringType,true)))"
      ]
     },
     "execution_count": 87,
     "metadata": {},
     "output_type": "execute_result"
    }
   ],
   "source": [
    "births_trimmed.schema"
   ]
  },
  {
   "cell_type": "code",
   "execution_count": 101,
   "metadata": {},
   "outputs": [],
   "source": [
    "#Got the list of columns along with their datatype\n",
    "cols = [(col.name, col.dataType) for col in\n",
    "births_trimmed.schema]"
   ]
  },
  {
   "cell_type": "code",
   "execution_count": 102,
   "metadata": {},
   "outputs": [
    {
     "data": {
      "text/plain": [
       "[('INFANT_ALIVE_AT_REPORT', StringType),\n",
       " ('BIRTH_PLACE', StringType),\n",
       " ('MOTHER_AGE_YEARS', IntegerType),\n",
       " ('FATHER_COMBINED_AGE', IntegerType),\n",
       " ('CIG_BEFORE', IntegerType),\n",
       " ('CIG_1_TRI', IntegerType),\n",
       " ('CIG_2_TRI', IntegerType),\n",
       " ('CIG_3_TRI', IntegerType),\n",
       " ('MOTHER_HEIGHT_IN', IntegerType),\n",
       " ('MOTHER_PRE_WEIGHT', IntegerType),\n",
       " ('MOTHER_DELIVERY_WEIGHT', IntegerType),\n",
       " ('MOTHER_WEIGHT_GAIN', IntegerType),\n",
       " ('DIABETES_PRE', StringType),\n",
       " ('DIABETES_GEST', StringType),\n",
       " ('HYP_TENS_PRE', StringType),\n",
       " ('HYP_TENS_GEST', StringType),\n",
       " ('PREV_BIRTH_PRETERM', StringType)]"
      ]
     },
     "execution_count": 102,
     "metadata": {},
     "output_type": "execute_result"
    }
   ],
   "source": [
    "cols"
   ]
  },
  {
   "cell_type": "code",
   "execution_count": 103,
   "metadata": {},
   "outputs": [],
   "source": [
    "#Our motive is to determine columns having values YNU"
   ]
  },
  {
   "cell_type": "code",
   "execution_count": 105,
   "metadata": {},
   "outputs": [],
   "source": [
    "YNU_cols = []\n",
    "for i,s in enumerate(cols):\n",
    "    if s[1]==typ.StringType():\n",
    "        dis=births.select(s[0])\\\n",
    "            .distinct() \\\n",
    "            .rdd \\\n",
    "            .map(lambda row: row[0]) \\\n",
    "            .collect()\n",
    "        if 'Y' in dis:\n",
    "            YNU_cols.append(s[0])"
   ]
  },
  {
   "cell_type": "code",
   "execution_count": 106,
   "metadata": {},
   "outputs": [
    {
     "data": {
      "text/plain": [
       "['INFANT_ALIVE_AT_REPORT',\n",
       " 'DIABETES_PRE',\n",
       " 'DIABETES_GEST',\n",
       " 'HYP_TENS_PRE',\n",
       " 'HYP_TENS_GEST',\n",
       " 'PREV_BIRTH_PRETERM']"
      ]
     },
     "execution_count": 106,
     "metadata": {},
     "output_type": "execute_result"
    }
   ],
   "source": [
    "YNU_cols"
   ]
  },
  {
   "cell_type": "raw",
   "metadata": {},
   "source": [
    "First, we created a list of tuples (cols) that hold column names and\n",
    "corresponding data types. Next, we loop through all of these and\n",
    "calculate distinct values of all string columns; if a 'Y' is within the\n",
    "returned list, we append the column name to the YNU_cols list."
   ]
  },
  {
   "cell_type": "code",
   "execution_count": 108,
   "metadata": {},
   "outputs": [],
   "source": [
    "exprs_YNU = [\n",
    "rec_integer(x, func.lit('YNU')).alias(x)\n",
    "if x in YNU_cols\n",
    "else x\n",
    "for x in births_transformed.columns\n",
    "] \n",
    "\n",
    "births_transformed = births_transformed.select(exprs_YNU)"
   ]
  },
  {
   "cell_type": "code",
   "execution_count": 110,
   "metadata": {},
   "outputs": [
    {
     "name": "stdout",
     "output_type": "stream",
     "text": [
      "+------------+-------------+------------+-------------+------------------+\n",
      "|DIABETES_PRE|DIABETES_GEST|HYP_TENS_PRE|HYP_TENS_GEST|PREV_BIRTH_PRETERM|\n",
      "+------------+-------------+------------+-------------+------------------+\n",
      "|           0|            0|           0|            0|                 0|\n",
      "|           0|            0|           0|            0|                 0|\n",
      "|           0|            0|           0|            0|                 0|\n",
      "|           0|            0|           0|            0|                 1|\n",
      "|           0|            0|           0|            0|                 0|\n",
      "+------------+-------------+------------+-------------+------------------+\n",
      "only showing top 5 rows\n",
      "\n"
     ]
    }
   ],
   "source": [
    "births_transformed.select(YNU_cols[-5:]).show(5)"
   ]
  },
  {
   "cell_type": "markdown",
   "metadata": {},
   "source": [
    "# Descriptive statistics"
   ]
  },
  {
   "cell_type": "raw",
   "metadata": {},
   "source": [
    "normally start with descriptive statistics. Even though the DataFrames\n",
    "expose the .describe() method, since we are working with MLlib, we\n",
    "will use the .colStats(...) method"
   ]
  },
  {
   "cell_type": "raw",
   "metadata": {},
   "source": [
    "The method takes an RDD of data to calculate the descriptive statistics of\n",
    "and return a MultivariateStatisticalSummary object that contains the\n",
    "following descriptive statistics:\n",
    "\n",
    "count(): This holds a row count\n",
    "\n",
    "max(): This holds maximum value in the column\n",
    "\n",
    "mean(): This holds the value of the mean for the values in the column\n",
    "\n",
    "min(): This holds the minimum value in the column\n",
    "\n",
    "normL1(): This holds the value of the L1-Norm for the values in the column\n",
    "\n",
    "normL2(): This holds the value of the L2-Norm for the values in the column\n",
    "\n",
    "numNonzeros(): This holds the number of nonzero values in the column\n",
    "\n",
    "variance(): This holds the value of the variance for the values in\n",
    "the column"
   ]
  },
  {
   "cell_type": "raw",
   "metadata": {},
   "source": [
    "You can read more about the L1- and L2-norms here http://bit.ly/2jJJPJ0"
   ]
  },
  {
   "cell_type": "code",
   "execution_count": 112,
   "metadata": {},
   "outputs": [],
   "source": [
    "import pyspark.mllib.stat as st"
   ]
  },
  {
   "cell_type": "code",
   "execution_count": 113,
   "metadata": {},
   "outputs": [],
   "source": [
    "import numpy as np"
   ]
  },
  {
   "cell_type": "code",
   "execution_count": 114,
   "metadata": {},
   "outputs": [],
   "source": [
    "MotherAge_rdd = births_transformed\\\n",
    "            .select('MOTHER_AGE_YEARS')\\\n",
    "            .rdd \\\n",
    "            .map(lambda row: [e for e in row])\n",
    "            \n",
    "MotherAge_rdd_statistics = st.Statistics.colStats(MotherAge_rdd)"
   ]
  },
  {
   "cell_type": "code",
   "execution_count": 121,
   "metadata": {},
   "outputs": [
    {
     "data": {
      "text/plain": [
       "array([12.])"
      ]
     },
     "execution_count": 121,
     "metadata": {},
     "output_type": "execute_result"
    }
   ],
   "source": [
    "MotherAge_rdd_statistics.max()\n",
    "MotherAge_rdd_statistics.min()"
   ]
  },
  {
   "cell_type": "code",
   "execution_count": 126,
   "metadata": {},
   "outputs": [
    {
     "name": "stdout",
     "output_type": "stream",
     "text": [
      "MOTHER_AGE_YEARS: \t28.30 \t 6.08\n",
      "FATHER_COMBINED_AGE: \t44.55 \t 27.55\n",
      "CIG_BEFORE: \t1.43 \t 5.18\n",
      "CIG_1_TRI: \t0.91 \t 3.83\n",
      "CIG_2_TRI: \t0.70 \t 3.31\n",
      "CIG_3_TRI: \t0.58 \t 3.11\n",
      "MOTHER_HEIGHT_IN: \t65.12 \t 6.45\n",
      "MOTHER_PRE_WEIGHT: \t214.50 \t 210.21\n",
      "MOTHER_DELIVERY_WEIGHT: \t223.63 \t 180.01\n",
      "MOTHER_WEIGHT_GAIN: \t30.74 \t 26.23\n"
     ]
    }
   ],
   "source": [
    "numeric_cols = ['MOTHER_AGE_YEARS','FATHER_COMBINED_AGE',\n",
    "'CIG_BEFORE','CIG_1_TRI','CIG_2_TRI','CIG_3_TRI',\n",
    "'MOTHER_HEIGHT_IN','MOTHER_PRE_WEIGHT',\n",
    "'MOTHER_DELIVERY_WEIGHT','MOTHER_WEIGHT_GAIN'\n",
    "]\n",
    "\n",
    "numeric_rdd = births_transformed\\\n",
    "            .select(numeric_cols)\\\n",
    "            .rdd \\\n",
    "            .map(lambda row: [e for e in row])\n",
    "\n",
    "mllib_stats = st.Statistics.colStats(numeric_rdd)\n",
    "for col, m, v in zip(numeric_cols,mllib_stats.mean(),mllib_stats.variance()):\n",
    "        print('{0}: \\t{1:.2f} \\t {2:.2f}'.format(col, m, np.sqrt(v)))"
   ]
  },
  {
   "cell_type": "code",
   "execution_count": 127,
   "metadata": {},
   "outputs": [],
   "source": [
    "#For Categorical Variables"
   ]
  },
  {
   "cell_type": "code",
   "execution_count": 128,
   "metadata": {},
   "outputs": [
    {
     "name": "stdout",
     "output_type": "stream",
     "text": [
      "INFANT_ALIVE_AT_REPORT [(1, 23349), (0, 22080)]\n",
      "BIRTH_PLACE [('1', 44558), ('4', 327), ('3', 224), ('2', 136), ('7', 91), ('5', 74), ('6', 11), ('9', 8)]\n",
      "DIABETES_PRE [(0, 44881), (1, 548)]\n",
      "DIABETES_GEST [(0, 43451), (1, 1978)]\n",
      "HYP_TENS_PRE [(0, 44348), (1, 1081)]\n",
      "HYP_TENS_GEST [(0, 43302), (1, 2127)]\n",
      "PREV_BIRTH_PRETERM [(0, 43088), (1, 2341)]\n"
     ]
    }
   ],
   "source": [
    "categorical_cols = [e for e in births_transformed.columns if e not in numeric_cols]\n",
    "categorical_rdd = births_transformed\\\n",
    ".select(categorical_cols)\\\n",
    ".rdd \\\n",
    ".map(lambda row: [e for e in row])\n",
    "\n",
    "for i, col in enumerate(categorical_cols):\n",
    "    agg = categorical_rdd \\\n",
    "            .groupBy(lambda row: row[i]) \\\n",
    "            .map(lambda row: (row[0], len(row[1])))\n",
    "    print(col, sorted(agg.collect(),key=lambda el: el[1],reverse=True))"
   ]
  },
  {
   "cell_type": "markdown",
   "metadata": {},
   "source": [
    "# Correlations"
   ]
  },
  {
   "cell_type": "code",
   "execution_count": 129,
   "metadata": {},
   "outputs": [
    {
     "name": "stdout",
     "output_type": "stream",
     "text": [
      "CIG_BEFORE-to-CIG_1_TRI: 0.83\n",
      "CIG_BEFORE-to-CIG_2_TRI: 0.72\n",
      "CIG_BEFORE-to-CIG_3_TRI: 0.62\n",
      "CIG_1_TRI-to-CIG_BEFORE: 0.83\n",
      "CIG_1_TRI-to-CIG_2_TRI: 0.87\n",
      "CIG_1_TRI-to-CIG_3_TRI: 0.76\n",
      "CIG_2_TRI-to-CIG_BEFORE: 0.72\n",
      "CIG_2_TRI-to-CIG_1_TRI: 0.87\n",
      "CIG_2_TRI-to-CIG_3_TRI: 0.89\n",
      "CIG_3_TRI-to-CIG_BEFORE: 0.62\n",
      "CIG_3_TRI-to-CIG_1_TRI: 0.76\n",
      "CIG_3_TRI-to-CIG_2_TRI: 0.89\n",
      "MOTHER_PRE_WEIGHT-to-MOTHER_DELIVERY_WEIGHT: 0.54\n",
      "MOTHER_PRE_WEIGHT-to-MOTHER_WEIGHT_GAIN: 0.65\n",
      "MOTHER_DELIVERY_WEIGHT-to-MOTHER_PRE_WEIGHT: 0.54\n",
      "MOTHER_DELIVERY_WEIGHT-to-MOTHER_WEIGHT_GAIN: 0.60\n",
      "MOTHER_WEIGHT_GAIN-to-MOTHER_PRE_WEIGHT: 0.65\n",
      "MOTHER_WEIGHT_GAIN-to-MOTHER_DELIVERY_WEIGHT: 0.60\n"
     ]
    }
   ],
   "source": [
    "corrs = st.Statistics.corr(numeric_rdd)\n",
    "for i, el in enumerate(corrs > 0.5):\n",
    "    correlated = [\n",
    "        (numeric_cols[j], corrs[i][j])\n",
    "        for j, e in enumerate(el)\n",
    "        if e == 1.0 and j != i]\n",
    "    if len(correlated) > 0:\n",
    "        for e in correlated:\n",
    "            print('{0}-to-{1}: {2:.2f}' \\\n",
    "                .format(numeric_cols[i], e[0], e[1]))"
   ]
  },
  {
   "cell_type": "markdown",
   "metadata": {},
   "source": [
    "# Statistical testing"
   ]
  },
  {
   "cell_type": "raw",
   "metadata": {},
   "source": [
    "We cannot calculate correlations for the categorical features. However,\n",
    "we can run a Chi-square test to determine if there are significant\n",
    "differences"
   ]
  },
  {
   "cell_type": "code",
   "execution_count": null,
   "metadata": {},
   "outputs": [],
   "source": []
  }
 ],
 "metadata": {
  "kernelspec": {
   "display_name": "Python 3",
   "language": "python",
   "name": "python3"
  },
  "language_info": {
   "codemirror_mode": {
    "name": "ipython",
    "version": 3
   },
   "file_extension": ".py",
   "mimetype": "text/x-python",
   "name": "python",
   "nbconvert_exporter": "python",
   "pygments_lexer": "ipython3",
   "version": "3.6.4"
  }
 },
 "nbformat": 4,
 "nbformat_minor": 2
}
